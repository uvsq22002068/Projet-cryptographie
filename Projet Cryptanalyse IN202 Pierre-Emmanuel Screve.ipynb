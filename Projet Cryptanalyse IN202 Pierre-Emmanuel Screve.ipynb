{
 "cells": [
  {
   "cell_type": "markdown",
   "metadata": {},
   "source": [
    "# Cryptanalyse\n",
    "\n",
    "Votre mission, si vous l'acceptez, est de déchiffrer 4 textes de difficulté croissante en vous aidant d'un programme python que vous allez écrire.\n",
    "\n",
    "\n",
    "- Les fichiers ont été cryptés avec des méthodes données en cours.\n",
    "- Les fichiers chiffrés contiennent des textes en ASCII. Une fois déchiffrés ils vous donneront des informations.\n",
    "- Vous devez vous baser sur les fréquences d'apparition des lettres en français (et des paires de lettres) pour casser les codes. Faire une fonction de calcul pour vous aider.\n",
    "- Penser à réutliser le code du td de cryptographie comme base de travail.\n",
    "- Le code de votre programme doit être sur github et vous fournirez un lien vers votre projet github avec le code et le résultat du décodage\n",
    "en le déposant sur Moodle avant le mercredi 12 mai.\n",
    "- Une soutenance sera organisée le 17 mai.\n",
    "\n",
    "\n"
   ]
  },
  {
   "cell_type": "code",
   "execution_count": 27,
   "metadata": {},
   "outputs": [
    {
     "output_type": "execute_result",
     "data": {
      "text/plain": [
       "'Lien du github : https://github.com/uvsq22002068/Projet-cryptographie.git'"
      ]
     },
     "metadata": {},
     "execution_count": 27
    }
   ],
   "source": [
    "\"\"\"Lien du github : https://github.com/uvsq22002068/Projet-cryptographie.git\"\"\"\n",
    "#projet de Pierre-Emmanuel Scrève en BITD02"
   ]
  },
  {
   "cell_type": "code",
   "execution_count": 28,
   "metadata": {},
   "outputs": [],
   "source": [
    "import tkinter as tk\n",
    "import string\n",
    "\n",
    "def fermer_fenetre():\n",
    "    racine.destroy()"
   ]
  },
  {
   "cell_type": "code",
   "execution_count": 29,
   "metadata": {},
   "outputs": [],
   "source": [
    "alphabet=[]\n",
    "\n",
    "def alphabet_vide():\n",
    "    for i in range(97,123):\n",
    "        alphabet.append([chr(i),0.0])\n",
    "\n",
    "def vide():\n",
    "    for x in alphabet:\n",
    "        x[1] = 0.0\n",
    "\n",
    "alphabet_vide()"
   ]
  },
  {
   "cell_type": "code",
   "execution_count": 30,
   "metadata": {},
   "outputs": [],
   "source": [
    "def nbrOccur(texte):\n",
    "    vide()\n",
    "    for c in texte:\n",
    "        if 97 <= ord(c) <= 122: #verifier si c'est une lettre\n",
    "            alphabet[ord(c)-97][1] += round(1/len(texte)*100,3)\n",
    "\n",
    "\n",
    "nbrOccur(\"gx qosvlnkd wkvlkxo xiu vscx qno yd fsu cx qniix cx unkggx kdvsddyx xu vsdukxdu g'kdckvx. gxi gxuuoxi cy fsu cx qniix qxofxuuxdu cx cxvngxo gxi gxuuoxi cy fxiinmx sokmkdng fscygs 26. ixygxi gxi gxuuoxi cx n n a isdu vlkwwoxxi.\")"
   ]
  },
  {
   "cell_type": "code",
   "execution_count": 31,
   "metadata": {},
   "outputs": [
    {
     "output_type": "stream",
     "name": "stdout",
     "text": [
      "[['a', 0.442], ['b', 0.0], ['c', 4.862000000000001], ['d', 4.862000000000001], ['e', 0.0], ['f', 2.21], ['g', 6.1880000000000015], ['h', 0.0], ['i', 7.514000000000002], ['j', 0.0], ['k', 4.862000000000001], ['l', 1.326], ['m', 0.884], ['n', 4.420000000000001], ['o', 4.420000000000001], ['p', 0.0], ['q', 2.21], ['r', 0.0], ['s', 4.420000000000001], ['t', 0.0], ['u', 7.514000000000002], ['v', 3.5360000000000005], ['w', 1.326], ['x', 15.912000000000004], ['y', 2.652], ['z', 0.0]]\n"
     ]
    }
   ],
   "source": [
    "print(alphabet)"
   ]
  },
  {
   "cell_type": "code",
   "execution_count": 32,
   "metadata": {},
   "outputs": [],
   "source": [
    "def decalage(lettre_message,lettre_cle):\n",
    "    if ord(lettre_message) < 97 or ord(lettre_message) > 122:\n",
    "        return lettre_message\n",
    "    return chr(((rang(lettre_message)) + (rang(lettre_cle)))%26 + 97)"
   ]
  },
  {
   "cell_type": "code",
   "execution_count": 33,
   "metadata": {},
   "outputs": [],
   "source": [
    "def rang(lettre):\n",
    "    return ord(lettre) - 96"
   ]
  },
  {
   "cell_type": "code",
   "execution_count": 34,
   "metadata": {},
   "outputs": [],
   "source": [
    "def dec_texte(texte,cle):\n",
    "    taille_cle=len(cle)\n",
    "    resu = ''\n",
    "    i=0\n",
    "    j=0\n",
    "    while i < len(texte):\n",
    "        resu += decalage(texte[i],cle[j%taille_cle])\n",
    "        i+=1\n",
    "        j+=1\n",
    "        if j == len(cle):\n",
    "            j=0\n",
    "    return resu\n",
    "\n",
    "\n",
    "def chiffre():\n",
    "    resultat.delete(0,tk.END)\n",
    "    if (entree_texte.get()==\"\" + entree_cle.get()==\"\"):\n",
    "        resultat.insert(0,\"Erreur\")\n",
    "    else:\n",
    "        resultat.insert(0,dec_texte(entree_texte.get(),entree_cle.get()))"
   ]
  },
  {
   "cell_type": "code",
   "execution_count": 35,
   "metadata": {},
   "outputs": [],
   "source": [
    "def dechiffrement(texte,cle):\n",
    "    res=''\n",
    "    i=0\n",
    "    j=0\n",
    "    while i < len(texte):\n",
    "        res+=decalage(texte[i],chr(256-ord(cle[j])))\n",
    "        i+=1\n",
    "        j+=1\n",
    "        if j == len(cle):\n",
    "                j=0\n",
    "    return res\n",
    "\n",
    "def dechiffre():\n",
    "    label_res.config(text=dechiffrement(resultat.get(),entree_cle.get()))"
   ]
  },
  {
   "cell_type": "code",
   "execution_count": 36,
   "metadata": {},
   "outputs": [],
   "source": [
    "racine=tk.Tk()\n",
    "racine.title(\"Cryptographie\")\n",
    "\n",
    "entree_texte = tk.Entry(racine, width = 50, font = (\"helvetica\", \"20\"))\n",
    "entree_texte.grid(row = 0, column = 0)\n",
    "\n",
    "entree_cle = tk.Entry(racine, width = 50, font = (\"helvetica\", \"20\"))\n",
    "entree_cle.grid(row = 1, column = 0)\n",
    "\n",
    "label_texte = tk.Label(racine,font = (\"helvetica\", \"20\"), text = \"Entrer le message ici.\")\n",
    "label_texte.grid(row = 0, column = 1)\n",
    "\n",
    "label_cle = tk.Label(racine,font = (\"helvetica\", \"20\"), text = \"Entrer la clé ici.\")\n",
    "label_cle.grid(row = 1, column = 1)\n",
    "\n",
    "\n",
    "bouton_coder=tk.Button(racine, text=\"Chiffrer texte\",fg=\"black\", width=15, command=chiffre)\n",
    "bouton_coder.grid(row=2, column=0)\n",
    "\n",
    "bouton_decoder=tk.Button(racine,text=\"Déchiffrer texte\",fg=\"black\",  width=15,command=dechiffre)\n",
    "bouton_decoder.grid(row=2, column=1)\n",
    "\n",
    "resultat=tk.Entry(racine,width = 50, font = (\"helvetica\", \"20\"))\n",
    "resultat.grid(row=3,column=0)\n",
    "\n",
    "label_res=tk.Label(racine,font = (\"helvetica\",\"20\"), text = \"Déchiffrement ici\")\n",
    "label_res.grid(row = 3, column = 1)\n",
    "\n",
    "btn = tk.Button(racine, text=\"Quitter\", fg=\"black\", width=8, command=fermer_fenetre)\n",
    "btn.grid(row=4,column=1)\n",
    "\n",
    "racine.mainloop()"
   ]
  },
  {
   "cell_type": "code",
   "execution_count": 37,
   "metadata": {},
   "outputs": [
    {
     "output_type": "stream",
     "name": "stdout",
     "text": [
      "le prochain fichier est code par un mot de passe de taille inconnue et contient l'indice. les lettres du mot de passe permettent de decaler les lettres du message original modulo 26. seules les lettres de a a y sont chiffrees.\n"
     ]
    }
   ],
   "source": [
    "def text2_decipher(text2):\n",
    "    \"\"\"Cette fontion sert à effectuer une substitution alphabetique. Elle sert pour le texte 2.\"\"\"\n",
    "    result = \"\"\n",
    "    tab_sub = ['y', 'w', 'd', 'n', 'q', 'm', 'l', 'x', 's', 'j', 'i', 'h', 'g', 'a', 'r', ' ', 'p', ' ', 'o', 'k', 't',\n",
    "             'c', 'f', 'e', 'u', 'z']\n",
    "    for i in range (len(text2)):\n",
    "        if text2[i] not in string.ascii_lowercase:\n",
    "            result += text2[i]\n",
    "        else:\n",
    "            result += tab_sub[string.ascii_lowercase.index(text2[i])]\n",
    "    print(result)\n",
    "\n",
    "text_content = \"gx qosvlnkd wkvlkxo xiu vscx qno yd fsu cx qniix cx unkggx kdvsddyx xu vsdukxdu g'kdckvx. gxi gxuuoxi cy fsu cx qniix qxofxuuxdu cx cxvngxo gxi gxuuoxi cy fxiinmx sokmkdng fscygs 26. ixygxi gxi gxuuoxi cx n n a isdu vlkwwoxxi.\"\n",
    "\n",
    "text2_decipher(text_content)"
   ]
  },
  {
   "cell_type": "code",
   "execution_count": 38,
   "metadata": {},
   "outputs": [
    {
     "output_type": "stream",
     "name": "stdout",
     "text": [
      "bravo a l'aide de l'indice vous avez reussi a casser ce code et a finir ce devoir. le dernier texte est pour les braves, regardez vous dans un miroir, en etes vous un ?\n"
     ]
    }
   ],
   "source": [
    "def dechiffrement(texte, cle):\n",
    "    \"\"\"Cette fonction utilise un déchiffrement de vigenère. Elle sert pour le texte 3.\"\"\"\n",
    "    result = []\n",
    "\n",
    "    i = 0\n",
    "    for lettre in texte:\n",
    "        if lettre.isalpha():\n",
    "            index = string.ascii_lowercase.index(lettre)\n",
    "            index_cle = string.ascii_lowercase.index(cle[i])\n",
    "\n",
    "            result.append(string.ascii_lowercase[((index - index_cle) % 26)])\n",
    "        else:\n",
    "            result.append(lettre)\n",
    "\n",
    "        i += 1\n",
    "        if i == len(cle):\n",
    "            i = 0\n",
    "    return \"\".join(result)\n",
    "\n",
    "temp = \"dceuq e n'ehfp cg p'kyhhep uqfw cgiy citudm c gzudiq ni ezhd px c jhptv ep cggsht. kg hdtymdt xdzei gdx rzyq wir mvzxpw, cifcchdb znwd ccyw wy lkcsht, dp isgd uqfw wy ?\"\n",
    "\n",
    "print(dechiffrement(temp,\"clez\"))"
   ]
  }
 ],
 "metadata": {
  "kernelspec": {
   "name": "python385jvsc74a57bd030b8c826cc0b29d3cb796f956a1b013cf83584a99e273c5a42416821b3764e46",
   "display_name": "Python 3.8.5 64-bit ('l1-python': conda)"
  },
  "language_info": {
   "codemirror_mode": {
    "name": "ipython",
    "version": 3
   },
   "file_extension": ".py",
   "mimetype": "text/x-python",
   "name": "python",
   "nbconvert_exporter": "python",
   "pygments_lexer": "ipython3",
   "version": "3.8.5"
  }
 },
 "nbformat": 4,
 "nbformat_minor": 2
}